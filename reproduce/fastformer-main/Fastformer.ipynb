{
 "cells": [
  {
   "cell_type": "code",
   "execution_count": 2,
   "metadata": {
    "ExecuteTime": {
     "start_time": "2023-04-23T22:15:47.274989Z",
     "end_time": "2023-04-23T22:15:51.435244Z"
    }
   },
   "outputs": [
    {
     "name": "stderr",
     "output_type": "stream",
     "text": [
      "Found cached dataset ag_news (/home/hzj/.cache/huggingface/datasets/ag_news/default/0.0.0/bc2bcb40336ace1a0374767fc29bb0296cdaf8a6da7298436239c54d79180548)\n"
     ]
    },
    {
     "data": {
      "text/plain": "  0%|          | 0/2 [00:00<?, ?it/s]",
      "application/vnd.jupyter.widget-view+json": {
       "version_major": 2,
       "version_minor": 0,
       "model_id": "0b8e7d730f2a4dd0a63380ce869b391d"
      }
     },
     "metadata": {},
     "output_type": "display_data"
    }
   ],
   "source": [
    "from datasets import load_dataset\n",
    "from nltk.tokenize import wordpunct_tokenize\n",
    "dataset = load_dataset('ag_news')"
   ]
  },
  {
   "cell_type": "code",
   "execution_count": 3,
   "metadata": {
    "ExecuteTime": {
     "start_time": "2023-04-23T22:15:55.429145Z",
     "end_time": "2023-04-23T22:15:57.500347Z"
    }
   },
   "outputs": [],
   "source": [
    "text=[]\n",
    "label=[]\n",
    "for row in dataset['train']['text']+dataset['test']['text']:\n",
    "    text.append(wordpunct_tokenize(row.lower()))\n",
    "for row in dataset['train']['label']+dataset['test']['label']:\n",
    "    label.append(row)"
   ]
  },
  {
   "cell_type": "code",
   "execution_count": 4,
   "metadata": {
    "ExecuteTime": {
     "start_time": "2023-04-23T22:15:58.355441Z",
     "end_time": "2023-04-23T22:15:59.179635Z"
    }
   },
   "outputs": [],
   "source": [
    "word_dict={'PADDING':0}\n",
    "for sent in text:    \n",
    "    for token in sent:        \n",
    "        if token not in word_dict:\n",
    "            word_dict[token]=len(word_dict)"
   ]
  },
  {
   "cell_type": "code",
   "execution_count": 5,
   "metadata": {
    "ExecuteTime": {
     "start_time": "2023-04-23T22:15:59.180175Z",
     "end_time": "2023-04-23T22:16:01.766151Z"
    }
   },
   "outputs": [],
   "source": [
    "news_words = []\n",
    "for sent in text:       \n",
    "    sample=[]\n",
    "    for token in sent:     \n",
    "        sample.append(word_dict[token])\n",
    "    sample = sample[:256]\n",
    "    news_words.append(sample+[0]*(256-len(sample)))\n"
   ]
  },
  {
   "cell_type": "code",
   "execution_count": 6,
   "metadata": {
    "ExecuteTime": {
     "start_time": "2023-04-23T22:16:04.107114Z",
     "end_time": "2023-04-23T22:16:04.108025Z"
    }
   },
   "outputs": [],
   "source": [
    "import numpy as np\n",
    "news_words=np.array(news_words,dtype='int32') \n",
    "label=np.array(label,dtype='int32')"
   ]
  },
  {
   "cell_type": "code",
   "execution_count": 7,
   "outputs": [
    {
     "data": {
      "text/plain": "array([ 1,  2,  3,  4,  5,  6,  7,  8,  9, 10, 11, 12, 11, 13, 14, 13, 15,\n       16,  1, 17, 18, 19, 20, 21, 22, 23, 24, 13, 25, 16, 26, 27, 28, 29,\n        3,  0,  0,  0,  0,  0,  0,  0,  0,  0,  0,  0,  0,  0,  0,  0,  0,\n        0,  0,  0,  0,  0,  0,  0,  0,  0,  0,  0,  0,  0,  0,  0,  0,  0,\n        0,  0,  0,  0,  0,  0,  0,  0,  0,  0,  0,  0,  0,  0,  0,  0,  0,\n        0,  0,  0,  0,  0,  0,  0,  0,  0,  0,  0,  0,  0,  0,  0,  0,  0,\n        0,  0,  0,  0,  0,  0,  0,  0,  0,  0,  0,  0,  0,  0,  0,  0,  0,\n        0,  0,  0,  0,  0,  0,  0,  0,  0,  0,  0,  0,  0,  0,  0,  0,  0,\n        0,  0,  0,  0,  0,  0,  0,  0,  0,  0,  0,  0,  0,  0,  0,  0,  0,\n        0,  0,  0,  0,  0,  0,  0,  0,  0,  0,  0,  0,  0,  0,  0,  0,  0,\n        0,  0,  0,  0,  0,  0,  0,  0,  0,  0,  0,  0,  0,  0,  0,  0,  0,\n        0,  0,  0,  0,  0,  0,  0,  0,  0,  0,  0,  0,  0,  0,  0,  0,  0,\n        0,  0,  0,  0,  0,  0,  0,  0,  0,  0,  0,  0,  0,  0,  0,  0,  0,\n        0,  0,  0,  0,  0,  0,  0,  0,  0,  0,  0,  0,  0,  0,  0,  0,  0,\n        0,  0,  0,  0,  0,  0,  0,  0,  0,  0,  0,  0,  0,  0,  0,  0,  0,\n        0], dtype=int32)"
     },
     "execution_count": 7,
     "metadata": {},
     "output_type": "execute_result"
    }
   ],
   "source": [
    "news_words[0]"
   ],
   "metadata": {
    "collapsed": false,
    "ExecuteTime": {
     "start_time": "2023-04-23T22:16:04.107809Z",
     "end_time": "2023-04-23T22:16:04.470219Z"
    }
   }
  },
  {
   "cell_type": "code",
   "execution_count": 8,
   "metadata": {
    "ExecuteTime": {
     "start_time": "2023-04-23T22:16:04.706602Z",
     "end_time": "2023-04-23T22:16:04.707272Z"
    }
   },
   "outputs": [],
   "source": [
    "index=np.arange(len(label))\n",
    "train_index=index[:120000]\n",
    "np.random.shuffle(train_index)\n",
    "test_index=index[120000:]"
   ]
  },
  {
   "cell_type": "code",
   "execution_count": 9,
   "metadata": {
    "ExecuteTime": {
     "start_time": "2023-04-23T22:16:05.841004Z",
     "end_time": "2023-04-23T22:16:05.848615Z"
    }
   },
   "outputs": [],
   "source": [
    "import os\n",
    "import logging\n",
    "os.environ[\"CUDA_VISIBLE_DEVICES\"] = \"1\"\n"
   ]
  },
  {
   "cell_type": "code",
   "execution_count": 10,
   "metadata": {
    "ExecuteTime": {
     "start_time": "2023-04-23T22:16:06.737867Z",
     "end_time": "2023-04-23T22:16:07.510361Z"
    }
   },
   "outputs": [],
   "source": [
    "from transformers import BertConfig\n",
    "from transformers.models.bert.modeling_bert import BertSelfOutput, BertIntermediate, BertOutput\n",
    "config=BertConfig.from_json_file('/home/hzj/NLP1/SentimentAnalysis/Code/Fastformer-main/fastformer.json')\n"
   ]
  },
  {
   "cell_type": "code",
   "execution_count": 11,
   "metadata": {
    "ExecuteTime": {
     "start_time": "2023-04-23T22:16:08.202503Z",
     "end_time": "2023-04-23T22:16:08.238799Z"
    }
   },
   "outputs": [],
   "source": [
    "import torch\n",
    "import torch.nn as nn\n",
    "\n",
    "class AttentionPooling(nn.Module):\n",
    "    def __init__(self, config):\n",
    "        self.config = config\n",
    "        super(AttentionPooling, self).__init__()\n",
    "        self.att_fc1 = nn.Linear(config.hidden_size, config.hidden_size)\n",
    "        self.att_fc2 = nn.Linear(config.hidden_size, 1)\n",
    "        self.apply(self.init_weights)\n",
    "        \n",
    "    def init_weights(self, module):\n",
    "        if isinstance(module, nn.Linear):\n",
    "            module.weight.data.normal_(mean=0.0, std=self.config.initializer_range)\n",
    "        if isinstance(module, nn.Linear) and module.bias is not None:\n",
    "            module.bias.data.zero_()\n",
    "            \n",
    "                \n",
    "    def forward(self, x, attn_mask=None):\n",
    "        bz = x.shape[0]\n",
    "        e = self.att_fc1(x)\n",
    "        e = nn.Tanh()(e)\n",
    "        alpha = self.att_fc2(e)\n",
    "        alpha = torch.exp(alpha)\n",
    "        if attn_mask is not None:\n",
    "            alpha = alpha * attn_mask.unsqueeze(2)\n",
    "        alpha = alpha / (torch.sum(alpha, dim=1, keepdim=True) + 1e-8)\n",
    "        x = torch.bmm(x.permute(0, 2, 1), alpha)\n",
    "        x = torch.reshape(x, (bz, -1))  \n",
    "        return x\n",
    "\n",
    "class FastSelfAttention(nn.Module):\n",
    "    def __init__(self, config):\n",
    "        super(FastSelfAttention, self).__init__()\n",
    "        self.config = config\n",
    "        if config.hidden_size % config.num_attention_heads != 0:\n",
    "            raise ValueError(\n",
    "                \"The hidden size (%d) is not a multiple of the number of attention \"\n",
    "                \"heads (%d)\" %\n",
    "                (config.hidden_size, config.num_attention_heads))\n",
    "        self.attention_head_size = int(config.hidden_size /config.num_attention_heads)\n",
    "        self.num_attention_heads = config.num_attention_heads\n",
    "        self.all_head_size = self.num_attention_heads * self.attention_head_size  # 和hidden_size是等价的\n",
    "        self.input_dim= config.hidden_size\n",
    "        \n",
    "        self.query = nn.Linear(self.input_dim, self.all_head_size)\n",
    "        self.query_att = nn.Linear(self.all_head_size, self.num_attention_heads)\n",
    "        self.key = nn.Linear(self.input_dim, self.all_head_size)\n",
    "        self.key_att = nn.Linear(self.all_head_size, self.num_attention_heads)\n",
    "        self.transform = nn.Linear(self.all_head_size, self.all_head_size)\n",
    "\n",
    "        self.softmax = nn.Softmax(dim=-1)\n",
    "        \n",
    "        self.apply(self.init_weights)\n",
    "\n",
    "    def init_weights(self, module):\n",
    "        if isinstance(module, nn.Linear):\n",
    "            module.weight.data.normal_(mean=0.0, std=self.config.initializer_range)\n",
    "        if isinstance(module, nn.Linear) and module.bias is not None:\n",
    "            module.bias.data.zero_()\n",
    "                \n",
    "    def transpose_for_scores(self, x):\n",
    "        new_x_shape = x.size()[:-1] + (self.num_attention_heads,\n",
    "                                       self.attention_head_size)\n",
    "        x = x.view(*new_x_shape)\n",
    "        return x.permute(0, 2, 1, 3)\n",
    "    \n",
    "    def forward(self, hidden_states, attention_mask):\n",
    "        # batch_size, seq_len, num_head * head_dim, batch_size, seq_len\n",
    "        batch_size, seq_len, _ = hidden_states.shape\n",
    "        mixed_query_layer = self.query(hidden_states)\n",
    "        mixed_key_layer = self.key(hidden_states)\n",
    "        # batch_size, num_head, seq_len\n",
    "        query_for_score = self.query_att(mixed_query_layer).transpose(1, 2) / self.attention_head_size**0.5\n",
    "        # add attention mask\n",
    "        query_for_score += attention_mask\n",
    "\n",
    "        # batch_size, num_head, 1, seq_len\n",
    "        query_weight = self.softmax(query_for_score).unsqueeze(2)\n",
    "\n",
    "        # batch_size, num_head, seq_len, head_dim\n",
    "        query_layer = self.transpose_for_scores(mixed_query_layer)\n",
    "\n",
    "        # batch_size, num_head, head_dim, 1\n",
    "        pooled_query = torch.matmul(query_weight, query_layer).transpose(1, 2).view(-1,1,self.num_attention_heads*self.attention_head_size)\n",
    "        pooled_query_repeat= pooled_query.repeat(1, seq_len,1)\n",
    "        # batch_size, num_head, seq_len, head_dim\n",
    "\n",
    "        # batch_size, num_head, seq_len\n",
    "        mixed_query_key_layer=mixed_key_layer* pooled_query_repeat\n",
    "        \n",
    "        query_key_score=(self.key_att(mixed_query_key_layer)/ self.attention_head_size**0.5).transpose(1, 2)\n",
    "        \n",
    "        # add attention mask\n",
    "        query_key_score +=attention_mask\n",
    "\n",
    "        # batch_size, num_head, 1, seq_len\n",
    "        query_key_weight = self.softmax(query_key_score).unsqueeze(2)\n",
    "\n",
    "        key_layer = self.transpose_for_scores(mixed_query_key_layer)\n",
    "        pooled_key = torch.matmul(query_key_weight, key_layer)\n",
    "\n",
    "        #query = value\n",
    "        weighted_value =(pooled_key * query_layer).transpose(1, 2)\n",
    "        weighted_value = weighted_value.reshape(\n",
    "            weighted_value.size()[:-2] + (self.num_attention_heads * self.attention_head_size,))\n",
    "        weighted_value = self.transform(weighted_value) + mixed_query_layer\n",
    "      \n",
    "        return weighted_value"
   ]
  },
  {
   "cell_type": "code",
   "execution_count": 12,
   "outputs": [],
   "source": [
    "tmp_m = FastSelfAttention(config)"
   ],
   "metadata": {
    "collapsed": false,
    "ExecuteTime": {
     "start_time": "2023-04-23T22:16:09.547429Z",
     "end_time": "2023-04-23T22:16:09.590425Z"
    }
   }
  },
  {
   "cell_type": "code",
   "execution_count": 13,
   "outputs": [
    {
     "ename": "TypeError",
     "evalue": "forward() missing 2 required positional arguments: 'hidden_states' and 'attention_mask'",
     "output_type": "error",
     "traceback": [
      "\u001B[0;31m---------------------------------------------------------------------------\u001B[0m",
      "\u001B[0;31mTypeError\u001B[0m                                 Traceback (most recent call last)",
      "\u001B[0;32m/tmp/ipykernel_19667/3251741587.py\u001B[0m in \u001B[0;36m<module>\u001B[0;34m\u001B[0m\n\u001B[0;32m----> 1\u001B[0;31m \u001B[0mtmp_m\u001B[0m\u001B[0;34m.\u001B[0m\u001B[0mforward\u001B[0m\u001B[0;34m(\u001B[0m\u001B[0;34m)\u001B[0m\u001B[0;34m\u001B[0m\u001B[0;34m\u001B[0m\u001B[0m\n\u001B[0m",
      "\u001B[0;31mTypeError\u001B[0m: forward() missing 2 required positional arguments: 'hidden_states' and 'attention_mask'"
     ]
    }
   ],
   "source": [
    "tmp_m.forward()"
   ],
   "metadata": {
    "collapsed": false,
    "ExecuteTime": {
     "start_time": "2023-04-22T22:15:03.145845Z",
     "end_time": "2023-04-22T22:15:03.150860Z"
    }
   }
  },
  {
   "cell_type": "code",
   "execution_count": 13,
   "metadata": {
    "ExecuteTime": {
     "start_time": "2023-04-23T22:16:13.521189Z",
     "end_time": "2023-04-23T22:16:13.524539Z"
    }
   },
   "outputs": [],
   "source": [
    "class FastAttention(nn.Module):\n",
    "    def __init__(self, config):\n",
    "        super(FastAttention, self).__init__()\n",
    "        self.self = FastSelfAttention(config)\n",
    "        self.output = BertSelfOutput(config)\n",
    "\n",
    "    def forward(self, input_tensor, attention_mask):\n",
    "        self_output = self.self(input_tensor, attention_mask)\n",
    "        attention_output = self.output(self_output, input_tensor)\n",
    "        return attention_output\n",
    "\n",
    "class FastformerLayer(nn.Module):\n",
    "    def __init__(self, config):\n",
    "        super(FastformerLayer, self).__init__()\n",
    "        self.attention = FastAttention(config)\n",
    "        self.intermediate = BertIntermediate(config)\n",
    "        self.output = BertOutput(config)\n",
    "\n",
    "    def forward(self, hidden_states, attention_mask):\n",
    "        attention_output = self.attention(hidden_states, attention_mask)\n",
    "        intermediate_output = self.intermediate(attention_output)\n",
    "        layer_output = self.output(intermediate_output, attention_output)\n",
    "        return layer_output\n",
    "    \n",
    "class FastformerEncoder(nn.Module):\n",
    "    def __init__(self, config, pooler_count=1):\n",
    "        super(FastformerEncoder, self).__init__()\n",
    "        self.config = config\n",
    "        self.encoders = nn.ModuleList([FastformerLayer(config) for _ in range(config.num_hidden_layers)])\n",
    "        self.position_embeddings = nn.Embedding(config.max_position_embeddings, config.hidden_size)\n",
    "        self.LayerNorm = nn.LayerNorm(config.hidden_size, eps=config.layer_norm_eps)\n",
    "        self.dropout = nn.Dropout(config.hidden_dropout_prob)\n",
    "\n",
    "        # support multiple different poolers with shared bert encoder.\n",
    "        self.poolers = nn.ModuleList()\n",
    "        if config.pooler_type == 'weightpooler':\n",
    "            for _ in range(pooler_count):\n",
    "                self.poolers.append(AttentionPooling(config))\n",
    "        logging.info(f\"This model has {len(self.poolers)} poolers.\")\n",
    "\n",
    "        self.apply(self.init_weights)\n",
    "\n",
    "    def init_weights(self, module):\n",
    "        if isinstance(module, (nn.Linear, nn.Embedding)):\n",
    "            module.weight.data.normal_(mean=0.0, std=self.config.initializer_range)\n",
    "            if isinstance(module, (nn.Embedding)) and module.padding_idx is not None:\n",
    "                with torch.no_grad():\n",
    "                    module.weight[module.padding_idx].fill_(0)\n",
    "        elif isinstance(module, nn.LayerNorm):\n",
    "            module.bias.data.zero_()\n",
    "            module.weight.data.fill_(1.0)\n",
    "        if isinstance(module, nn.Linear) and module.bias is not None:\n",
    "            module.bias.data.zero_()\n",
    "\n",
    "    def forward(self, \n",
    "                input_embs, \n",
    "                attention_mask, \n",
    "                pooler_index=0):\n",
    "        #input_embs: batch_size, seq_len, emb_dim\n",
    "        #attention_mask: batch_size, seq_len, emb_dim\n",
    "\n",
    "        extended_attention_mask = attention_mask.unsqueeze(1)\n",
    "        extended_attention_mask = extended_attention_mask.to(dtype=next(self.parameters()).dtype)  # fp16 compatibility\n",
    "        extended_attention_mask = (1.0 - extended_attention_mask) * -10000.0\n",
    "\n",
    "        batch_size, seq_length, emb_dim = input_embs.shape\n",
    "        position_ids = torch.arange(seq_length, dtype=torch.long, device=input_embs.device)\n",
    "        position_ids = position_ids.unsqueeze(0).expand(batch_size, -1)\n",
    "        position_embeddings = self.position_embeddings(position_ids)\n",
    "\n",
    "        embeddings = input_embs + position_embeddings\n",
    "        \n",
    "        embeddings = self.LayerNorm(embeddings)\n",
    "        embeddings = self.dropout(embeddings)\n",
    "        #print(embeddings.size())\n",
    "        all_hidden_states = [embeddings]\n",
    "\n",
    "        for i, layer_module in enumerate(self.encoders):\n",
    "            layer_outputs = layer_module(all_hidden_states[-1], extended_attention_mask)\n",
    "            all_hidden_states.append(layer_outputs)\n",
    "        assert len(self.poolers) > pooler_index\n",
    "        output = self.poolers[pooler_index](all_hidden_states[-1], attention_mask)\n",
    "\n",
    "        return output \n"
   ]
  },
  {
   "cell_type": "code",
   "execution_count": 14,
   "metadata": {
    "ExecuteTime": {
     "start_time": "2023-04-23T22:16:14.439777Z",
     "end_time": "2023-04-23T22:16:14.447802Z"
    }
   },
   "outputs": [],
   "source": [
    "    \n",
    "class Model(torch.nn.Module):\n",
    "\n",
    "    def __init__(self,config):\n",
    "        super(Model, self).__init__()\n",
    "        self.config = config\n",
    "        self.dense_linear = nn.Linear(config.hidden_size,4)\n",
    "        self.word_embedding = nn.Embedding(len(word_dict),256,padding_idx=0)\n",
    "        self.fastformer_model = FastformerEncoder(config)\n",
    "        self.criterion = nn.CrossEntropyLoss() \n",
    "        self.apply(self.init_weights)\n",
    "        \n",
    "    def init_weights(self, module):\n",
    "        if isinstance(module, (nn.Linear, nn.Embedding)):\n",
    "            module.weight.data.normal_(mean=0.0, std=self.config.initializer_range)\n",
    "            if isinstance(module, (nn.Embedding)) and module.padding_idx is not None:\n",
    "                with torch.no_grad():\n",
    "                    module.weight[module.padding_idx].fill_(0)\n",
    "        if isinstance(module, nn.Linear) and module.bias is not None:\n",
    "            module.bias.data.zero_()\n",
    "    \n",
    "    def forward(self,input_ids,targets):\n",
    "        mask=input_ids.bool().float()\n",
    "        embds=self.word_embedding(input_ids)\n",
    "        text_vec = self.fastformer_model(embds,mask)\n",
    "        score = self.dense_linear(text_vec)\n",
    "        loss = self.criterion(score, targets) \n",
    "        return loss, score"
   ]
  },
  {
   "cell_type": "code",
   "execution_count": 18,
   "metadata": {
    "ExecuteTime": {
     "start_time": "2023-04-23T22:16:31.627794Z",
     "end_time": "2023-04-23T22:16:31.640161Z"
    }
   },
   "outputs": [],
   "source": [
    "def acc(y_true, y_hat):\n",
    "    y_hat = torch.argmax(y_hat, dim=-1)\n",
    "    tot = y_true.shape[0]\n",
    "    hit = torch.sum(y_true == y_hat)\n",
    "    return hit.data.float() * 1.0 / tot"
   ]
  },
  {
   "cell_type": "code",
   "execution_count": 44,
   "metadata": {
    "ExecuteTime": {
     "start_time": "2023-04-23T22:21:54.079932Z",
     "end_time": "2023-04-23T22:21:54.087820Z"
    }
   },
   "outputs": [],
   "source": [
    "model = Model(config)\n",
    "import torch.optim as optim\n",
    "optimizer = optim.Adam([ {'params': model.parameters(), 'lr': 1e-3}])\n",
    "model.cuda()"
   ]
  },
  {
   "cell_type": "code",
   "execution_count": 45,
   "outputs": [
    {
     "data": {
      "text/plain": "Model(\n  (dense_linear): Linear(in_features=256, out_features=4, bias=True)\n  (word_embedding): Embedding(66818, 256, padding_idx=0)\n  (fastformer_model): FastformerEncoder(\n    (encoders): ModuleList(\n      (0): FastformerLayer(\n        (attention): FastAttention(\n          (self): FastSelfAttention(\n            (query): Linear(in_features=256, out_features=256, bias=True)\n            (query_att): Linear(in_features=256, out_features=16, bias=True)\n            (key): Linear(in_features=256, out_features=256, bias=True)\n            (key_att): Linear(in_features=256, out_features=16, bias=True)\n            (transform): Linear(in_features=256, out_features=256, bias=True)\n            (softmax): Softmax(dim=-1)\n          )\n          (output): BertSelfOutput(\n            (dense): Linear(in_features=256, out_features=256, bias=True)\n            (LayerNorm): LayerNorm((256,), eps=1e-12, elementwise_affine=True)\n            (dropout): Dropout(p=0.2, inplace=False)\n          )\n        )\n        (intermediate): BertIntermediate(\n          (dense): Linear(in_features=256, out_features=256, bias=True)\n          (intermediate_act_fn): GELUActivation()\n        )\n        (output): BertOutput(\n          (dense): Linear(in_features=256, out_features=256, bias=True)\n          (LayerNorm): LayerNorm((256,), eps=1e-12, elementwise_affine=True)\n          (dropout): Dropout(p=0.2, inplace=False)\n        )\n      )\n      (1): FastformerLayer(\n        (attention): FastAttention(\n          (self): FastSelfAttention(\n            (query): Linear(in_features=256, out_features=256, bias=True)\n            (query_att): Linear(in_features=256, out_features=16, bias=True)\n            (key): Linear(in_features=256, out_features=256, bias=True)\n            (key_att): Linear(in_features=256, out_features=16, bias=True)\n            (transform): Linear(in_features=256, out_features=256, bias=True)\n            (softmax): Softmax(dim=-1)\n          )\n          (output): BertSelfOutput(\n            (dense): Linear(in_features=256, out_features=256, bias=True)\n            (LayerNorm): LayerNorm((256,), eps=1e-12, elementwise_affine=True)\n            (dropout): Dropout(p=0.2, inplace=False)\n          )\n        )\n        (intermediate): BertIntermediate(\n          (dense): Linear(in_features=256, out_features=256, bias=True)\n          (intermediate_act_fn): GELUActivation()\n        )\n        (output): BertOutput(\n          (dense): Linear(in_features=256, out_features=256, bias=True)\n          (LayerNorm): LayerNorm((256,), eps=1e-12, elementwise_affine=True)\n          (dropout): Dropout(p=0.2, inplace=False)\n        )\n      )\n    )\n    (position_embeddings): Embedding(256, 256)\n    (LayerNorm): LayerNorm((256,), eps=1e-12, elementwise_affine=True)\n    (dropout): Dropout(p=0.2, inplace=False)\n    (poolers): ModuleList(\n      (0): AttentionPooling(\n        (att_fc1): Linear(in_features=256, out_features=256, bias=True)\n        (att_fc2): Linear(in_features=256, out_features=1, bias=True)\n      )\n    )\n  )\n  (criterion): CrossEntropyLoss()\n)"
     },
     "execution_count": 45,
     "metadata": {},
     "output_type": "execute_result"
    }
   ],
   "source": [
    "cnt = 0\n",
    "log_ids=news_words[train_index][cnt*64:cnt*64+64,:256]\n",
    "targets= label[train_index][cnt*64:cnt*64+64]\n",
    "\n",
    "log_ids = torch.LongTensor(log_ids).cuda(non_blocking=True)\n",
    "targets = torch.LongTensor(targets).cuda(non_blocking=True)"
   ],
   "metadata": {
    "collapsed": false,
    "ExecuteTime": {
     "start_time": "2023-04-23T22:21:54.526517Z",
     "end_time": "2023-04-23T22:21:54.959206Z"
    }
   }
  },
  {
   "cell_type": "code",
   "execution_count": 46,
   "outputs": [],
   "source": [
    "input_embs = model.word_embedding(log_ids[:2])\n",
    "attention_mask = log_ids[:2].bool().float()\n",
    "print(input_embs.size())\n",
    "print(attention_mask.size())\n",
    "input_embs.device"
   ],
   "metadata": {
    "collapsed": false,
    "ExecuteTime": {
     "start_time": "2023-04-23T22:21:54.966675Z",
     "end_time": "2023-04-23T22:21:55.054709Z"
    }
   }
  },
  {
   "cell_type": "code",
   "execution_count": 47,
   "outputs": [
    {
     "name": "stdout",
     "output_type": "stream",
     "text": [
      "torch.Size([2, 256, 256])\n",
      "torch.Size([2, 256])\n"
     ]
    },
    {
     "data": {
      "text/plain": "device(type='cuda', index=0)"
     },
     "execution_count": 47,
     "metadata": {},
     "output_type": "execute_result"
    }
   ],
   "source": [
    "tmp = FastformerEncoder(config)\n",
    "tmp.position_embeddings = tmp.position_embeddings.to(input_embs.device)\n",
    "tmp.LayerNorm = tmp.position_embeddings.to(input_embs.device)\n",
    "tmp.dropout = tmp.position_embeddings.to(input_embs.device)"
   ],
   "metadata": {
    "collapsed": false,
    "ExecuteTime": {
     "start_time": "2023-04-23T22:21:55.793647Z",
     "end_time": "2023-04-23T22:21:55.803112Z"
    }
   }
  },
  {
   "cell_type": "code",
   "execution_count": 48,
   "outputs": [],
   "source": [
    "extended_attention_mask = attention_mask.unsqueeze(1)\n",
    "extended_attention_mask = extended_attention_mask.to(dtype=next(tmp.parameters()).dtype)\n",
    "extended_attention_mask = (1.0 - extended_attention_mask) * -10000.0\n",
    "batch_size, seq_length, emb_dim = input_embs.shape\n",
    "position_ids = torch.arange(seq_length, dtype=torch.long, device=input_embs.device)\n",
    "position_ids = position_ids.unsqueeze(0).expand(batch_size, -1)\n",
    "position_embeddings = tmp.position_embeddings(position_ids)\n",
    "position_embeddings.device\n",
    "\n",
    "embeddings = input_embs + position_embeddings\n",
    "embeddings = tmp.LayerNorm(embeddings.to(tmp.device))\n",
    "embeddings = tmp.dropout(embeddings)\n",
    "# #print(embeddings.size())\n",
    "# all_hidden_states = [embeddings]\n",
    "# pooler_index=0\n",
    "# for i, layer_module in enumerate(tmp.encoders):\n",
    "#     layer_outputs = layer_module(all_hidden_states[-1], extended_attention_mask)\n",
    "#     all_hidden_states.append(layer_outputs)\n",
    "# assert len(tmp.poolers) > pooler_index\n",
    "# output = tmp.poolers[pooler_index](all_hidden_states[-1], attention_mask)"
   ],
   "metadata": {
    "collapsed": false,
    "ExecuteTime": {
     "start_time": "2023-04-23T22:21:56.733288Z",
     "end_time": "2023-04-23T22:21:56.763292Z"
    }
   }
  },
  {
   "cell_type": "code",
   "execution_count": 49,
   "outputs": [
    {
     "ename": "RuntimeError",
     "evalue": "CUDA out of memory. Tried to allocate 32.00 GiB (GPU 0; 22.41 GiB total capacity; 605.35 MiB already allocated; 21.28 GiB free; 608.00 MiB reserved in total by PyTorch) If reserved memory is >> allocated memory try setting max_split_size_mb to avoid fragmentation.  See documentation for Memory Management and PYTORCH_CUDA_ALLOC_CONF",
     "output_type": "error",
     "traceback": [
      "\u001B[0;31m---------------------------------------------------------------------------\u001B[0m",
      "\u001B[0;31mRuntimeError\u001B[0m                              Traceback (most recent call last)",
      "\u001B[0;32m/tmp/ipykernel_13812/481817834.py\u001B[0m in \u001B[0;36m<module>\u001B[0;34m\u001B[0m\n\u001B[1;32m     15\u001B[0m \u001B[0membeddings\u001B[0m \u001B[0;34m=\u001B[0m \u001B[0mtmp\u001B[0m\u001B[0;34m.\u001B[0m\u001B[0mLayerNorm\u001B[0m\u001B[0;34m(\u001B[0m\u001B[0membeddings\u001B[0m\u001B[0;34m)\u001B[0m\u001B[0;34m\u001B[0m\u001B[0;34m\u001B[0m\u001B[0m\n\u001B[1;32m     16\u001B[0m \u001B[0membeddings\u001B[0m \u001B[0;34m=\u001B[0m \u001B[0membeddings\u001B[0m\u001B[0;34m.\u001B[0m\u001B[0mlong\u001B[0m\u001B[0;34m(\u001B[0m\u001B[0;34m)\u001B[0m\u001B[0;34m\u001B[0m\u001B[0;34m\u001B[0m\u001B[0m\n\u001B[0;32m---> 17\u001B[0;31m \u001B[0membeddings\u001B[0m \u001B[0;34m=\u001B[0m \u001B[0mtmp\u001B[0m\u001B[0;34m.\u001B[0m\u001B[0mdropout\u001B[0m\u001B[0;34m(\u001B[0m\u001B[0membeddings\u001B[0m\u001B[0;34m)\u001B[0m\u001B[0;34m\u001B[0m\u001B[0;34m\u001B[0m\u001B[0m\n\u001B[0m\u001B[1;32m     18\u001B[0m \u001B[0;31m# #print(embeddings.size())\u001B[0m\u001B[0;34m\u001B[0m\u001B[0;34m\u001B[0m\u001B[0m\n\u001B[1;32m     19\u001B[0m \u001B[0;31m# all_hidden_states = [embeddings]\u001B[0m\u001B[0;34m\u001B[0m\u001B[0;34m\u001B[0m\u001B[0m\n",
      "\u001B[0;32m~/anaconda3/lib/python3.9/site-packages/torch/nn/modules/module.py\u001B[0m in \u001B[0;36m_call_impl\u001B[0;34m(self, *input, **kwargs)\u001B[0m\n\u001B[1;32m   1128\u001B[0m         if not (self._backward_hooks or self._forward_hooks or self._forward_pre_hooks or _global_backward_hooks\n\u001B[1;32m   1129\u001B[0m                 or _global_forward_hooks or _global_forward_pre_hooks):\n\u001B[0;32m-> 1130\u001B[0;31m             \u001B[0;32mreturn\u001B[0m \u001B[0mforward_call\u001B[0m\u001B[0;34m(\u001B[0m\u001B[0;34m*\u001B[0m\u001B[0minput\u001B[0m\u001B[0;34m,\u001B[0m \u001B[0;34m**\u001B[0m\u001B[0mkwargs\u001B[0m\u001B[0;34m)\u001B[0m\u001B[0;34m\u001B[0m\u001B[0;34m\u001B[0m\u001B[0m\n\u001B[0m\u001B[1;32m   1131\u001B[0m         \u001B[0;31m# Do not call functions when jit is used\u001B[0m\u001B[0;34m\u001B[0m\u001B[0;34m\u001B[0m\u001B[0m\n\u001B[1;32m   1132\u001B[0m         \u001B[0mfull_backward_hooks\u001B[0m\u001B[0;34m,\u001B[0m \u001B[0mnon_full_backward_hooks\u001B[0m \u001B[0;34m=\u001B[0m \u001B[0;34m[\u001B[0m\u001B[0;34m]\u001B[0m\u001B[0;34m,\u001B[0m \u001B[0;34m[\u001B[0m\u001B[0;34m]\u001B[0m\u001B[0;34m\u001B[0m\u001B[0;34m\u001B[0m\u001B[0m\n",
      "\u001B[0;32m~/anaconda3/lib/python3.9/site-packages/torch/nn/modules/sparse.py\u001B[0m in \u001B[0;36mforward\u001B[0;34m(self, input)\u001B[0m\n\u001B[1;32m    156\u001B[0m \u001B[0;34m\u001B[0m\u001B[0m\n\u001B[1;32m    157\u001B[0m     \u001B[0;32mdef\u001B[0m \u001B[0mforward\u001B[0m\u001B[0;34m(\u001B[0m\u001B[0mself\u001B[0m\u001B[0;34m,\u001B[0m \u001B[0minput\u001B[0m\u001B[0;34m:\u001B[0m \u001B[0mTensor\u001B[0m\u001B[0;34m)\u001B[0m \u001B[0;34m->\u001B[0m \u001B[0mTensor\u001B[0m\u001B[0;34m:\u001B[0m\u001B[0;34m\u001B[0m\u001B[0;34m\u001B[0m\u001B[0m\n\u001B[0;32m--> 158\u001B[0;31m         return F.embedding(\n\u001B[0m\u001B[1;32m    159\u001B[0m             \u001B[0minput\u001B[0m\u001B[0;34m,\u001B[0m \u001B[0mself\u001B[0m\u001B[0;34m.\u001B[0m\u001B[0mweight\u001B[0m\u001B[0;34m,\u001B[0m \u001B[0mself\u001B[0m\u001B[0;34m.\u001B[0m\u001B[0mpadding_idx\u001B[0m\u001B[0;34m,\u001B[0m \u001B[0mself\u001B[0m\u001B[0;34m.\u001B[0m\u001B[0mmax_norm\u001B[0m\u001B[0;34m,\u001B[0m\u001B[0;34m\u001B[0m\u001B[0;34m\u001B[0m\u001B[0m\n\u001B[1;32m    160\u001B[0m             self.norm_type, self.scale_grad_by_freq, self.sparse)\n",
      "\u001B[0;32m~/anaconda3/lib/python3.9/site-packages/torch/nn/functional.py\u001B[0m in \u001B[0;36membedding\u001B[0;34m(input, weight, padding_idx, max_norm, norm_type, scale_grad_by_freq, sparse)\u001B[0m\n\u001B[1;32m   2197\u001B[0m         \u001B[0;31m# remove once script supports set_grad_enabled\u001B[0m\u001B[0;34m\u001B[0m\u001B[0;34m\u001B[0m\u001B[0m\n\u001B[1;32m   2198\u001B[0m         \u001B[0m_no_grad_embedding_renorm_\u001B[0m\u001B[0;34m(\u001B[0m\u001B[0mweight\u001B[0m\u001B[0;34m,\u001B[0m \u001B[0minput\u001B[0m\u001B[0;34m,\u001B[0m \u001B[0mmax_norm\u001B[0m\u001B[0;34m,\u001B[0m \u001B[0mnorm_type\u001B[0m\u001B[0;34m)\u001B[0m\u001B[0;34m\u001B[0m\u001B[0;34m\u001B[0m\u001B[0m\n\u001B[0;32m-> 2199\u001B[0;31m     \u001B[0;32mreturn\u001B[0m \u001B[0mtorch\u001B[0m\u001B[0;34m.\u001B[0m\u001B[0membedding\u001B[0m\u001B[0;34m(\u001B[0m\u001B[0mweight\u001B[0m\u001B[0;34m,\u001B[0m \u001B[0minput\u001B[0m\u001B[0;34m,\u001B[0m \u001B[0mpadding_idx\u001B[0m\u001B[0;34m,\u001B[0m \u001B[0mscale_grad_by_freq\u001B[0m\u001B[0;34m,\u001B[0m \u001B[0msparse\u001B[0m\u001B[0;34m)\u001B[0m\u001B[0;34m\u001B[0m\u001B[0;34m\u001B[0m\u001B[0m\n\u001B[0m\u001B[1;32m   2200\u001B[0m \u001B[0;34m\u001B[0m\u001B[0m\n\u001B[1;32m   2201\u001B[0m \u001B[0;34m\u001B[0m\u001B[0m\n",
      "\u001B[0;31mRuntimeError\u001B[0m: CUDA out of memory. Tried to allocate 32.00 GiB (GPU 0; 22.41 GiB total capacity; 605.35 MiB already allocated; 21.28 GiB free; 608.00 MiB reserved in total by PyTorch) If reserved memory is >> allocated memory try setting max_split_size_mb to avoid fragmentation.  See documentation for Memory Management and PYTORCH_CUDA_ALLOC_CONF"
     ]
    }
   ],
   "source": [],
   "metadata": {
    "collapsed": false,
    "ExecuteTime": {
     "start_time": "2023-04-23T18:55:16.960681Z",
     "end_time": "2023-04-23T18:55:16.964533Z"
    }
   }
  },
  {
   "cell_type": "code",
   "execution_count": 22,
   "outputs": [
    {
     "data": {
      "text/plain": "(tensor(1.4238, device='cuda:0', grad_fn=<NllLossBackward0>),\n tensor([[-0.0293, -0.0159, -0.0185,  0.0202],\n         [ 0.0387,  0.0187,  0.0008, -0.0549]], device='cuda:0',\n        grad_fn=<AddmmBackward0>))"
     },
     "execution_count": 22,
     "metadata": {},
     "output_type": "execute_result"
    }
   ],
   "source": [
    "model(log_ids[:2], targets[:2])"
   ],
   "metadata": {
    "collapsed": false,
    "ExecuteTime": {
     "start_time": "2023-04-23T18:36:36.674904Z",
     "end_time": "2023-04-23T18:36:36.949005Z"
    }
   }
  },
  {
   "cell_type": "code",
   "execution_count": 21,
   "metadata": {
    "ExecuteTime": {
     "start_time": "2023-04-23T17:07:35.683819Z",
     "end_time": "2023-04-23T17:07:35.767456Z"
    }
   },
   "outputs": [],
   "source": [
    "for epoch in range(2):\n",
    "    loss = 0.0\n",
    "    accuary = 0.0\n",
    "    for cnt in range(len(train_index)//64):\n",
    "\n",
    "        log_ids=news_words[train_index][cnt*64:cnt*64+64,:256]\n",
    "        targets= label[train_index][cnt*64:cnt*64+64]\n",
    "\n",
    "        log_ids = torch.LongTensor(log_ids).cuda(non_blocking=True)\n",
    "        targets = torch.LongTensor(targets).cuda(non_blocking=True)\n",
    "        bz_loss, y_hat = model(log_ids, targets)\n",
    "        loss += bz_loss.data.float()\n",
    "        accuary += acc(targets, y_hat)\n",
    "        unified_loss=bz_loss\n",
    "        optimizer.zero_grad()\n",
    "        unified_loss.backward()\n",
    "        optimizer.step()\n",
    "\n",
    "        if cnt % 100== 0:\n",
    "            print( ' Ed: {}, train_loss: {:.5f}, acc: {:.5f}'.format(cnt * 64, loss.data / (cnt+1), accuary / (cnt+1)))\n",
    "    model.eval()\n",
    "    allpred=[]\n",
    "    for cnt in range(len(test_index)//64+1):\n",
    "    \n",
    "        log_ids=news_words[test_index][cnt*64:cnt*64+64,:256]\n",
    "        targets= label[test_index][cnt*64:cnt*64+64]\n",
    "        log_ids = torch.LongTensor(log_ids).cuda(non_blocking=True)\n",
    "        targets = torch.LongTensor(targets).cuda(non_blocking=True)\n",
    "    \n",
    "        bz_loss2, y_hat2 = model(log_ids, targets)\n",
    "        allpred+=y_hat2.to('cpu').detach().numpy().tolist()\n",
    "        \n",
    "    y_pred=np.argmax(allpred,axis=-1)\n",
    "    y_true=label[test_index]\n",
    "    from sklearn.metrics import *\n",
    "    print(accuracy_score(y_true, y_pred))\n",
    "    model.train()"
   ]
  }
 ],
 "metadata": {
  "kernelspec": {
   "display_name": "Python 3",
   "language": "python",
   "name": "python3"
  },
  "language_info": {
   "codemirror_mode": {
    "name": "ipython",
    "version": 3
   },
   "file_extension": ".py",
   "mimetype": "text/x-python",
   "name": "python",
   "nbconvert_exporter": "python",
   "pygments_lexer": "ipython3",
   "version": "3.6.9"
  }
 },
 "nbformat": 4,
 "nbformat_minor": 2
}
